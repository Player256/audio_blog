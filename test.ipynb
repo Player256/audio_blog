{
 "cells": [
  {
   "cell_type": "code",
   "execution_count": 5,
   "metadata": {},
   "outputs": [
    {
     "name": "stdout",
     "output_type": "stream",
     "text": [
      "<Response [200]>\n"
     ]
    }
   ],
   "source": [
    "import requests\n",
    "\n",
    "server_url = \"http://localhost:8000/v1/chat/completions\"\n",
    "\n",
    "payload = {\n",
    "    \"model\":\"Qwen/Qwen2.5-0.5B\",\n",
    "    \"messages\":[\n",
    "        {\n",
    "            \"role\":\"user\",\n",
    "            \"content\":\"How to learn kubernetes?\"\n",
    "        }\n",
    "    ],\n",
    "    \"max_tokens\":768,\n",
    "    \"temperature\":0.1,\n",
    "}\n",
    "\n",
    "response = requests.post(server_url,json=payload,timeout=500)\n",
    "\n",
    "if response.status_code == 200:\n",
    "    print(response)"
   ]
  },
  {
   "cell_type": "code",
   "execution_count": 7,
   "metadata": {},
   "outputs": [
    {
     "data": {
      "text/plain": [
       "{'id': 'chatcmpl-5461165c41f24606a248be2a1d816bed',\n",
       " 'object': 'chat.completion',\n",
       " 'created': 1752928644,\n",
       " 'model': 'Qwen/Qwen2.5-0.5B',\n",
       " 'choices': [{'index': 0,\n",
       "   'message': {'role': 'assistant',\n",
       "    'reasoning_content': None,\n",
       "    'content': \"Sure, I'd be happy to help you learn Kubernetes. Kubernetes is a popular container orchestration platform that helps you manage and scale your applications. Here are some steps you can follow to get started:\\n\\n1. **Understand the Basics:**\\n   - **Kubernetes Concepts:** Start by understanding the fundamental concepts of Kubernetes, such as namespaces, services, deployments, and pods.\\n   - **Kubernetes API:** Familiarize yourself with the Kubernetes API and how to interact with it using tools like kubectl.\\n\\n2. **Learn the API:**\\n   - **Kubernetes API Documentation:** Visit the official Kubernetes API documentation (https://kubernetes.io/docs/reference/generated/kubernetes-api/v1.20/) to learn about the various API endpoints and their functionalities.\\n   - **Kubernetes API Reference:** Use the Kubernetes API reference to understand the structure and syntax of the API.\\n\\n3. **Install and Configure Kubernetes:**\\n   - **Installation:** Follow the official installation guide for your operating system (e.g., Ubuntu, macOS, Windows).\\n   - **Configuration:** Configure your Kubernetes cluster by setting up namespaces, services, and pods.\\n\\n4. **Learn Kubernetes Concepts:**\\n   - **Kubernetes Concepts:** Study the concepts of containers, pods, services, and deployments.\\n   - **Kubernetes Concepts Cheat Sheet:** Create a cheat sheet to quickly recall key Kubernetes concepts.\\n\\n5. **Practice with Examples:**\\n   - **Kubernetes Examples:** Practice with Kubernetes examples and use cases to solidify your understanding.\\n   - **Kubernetes Playground:** Use the Kubernetes Playground to run and test your Kubernetes applications.\\n\\n6. **Learn Kubernetes Tools:**\\n   - **Kubernetes CLI:** Use the Kubernetes CLI to interact with your Kubernetes cluster.\\n   - **Kubernetes Dashboard:** Use the Kubernetes Dashboard to manage your Kubernetes cluster.\\n\\n7. **Explore Kubernetes Extensions:**\\n   - **Kubernetes Extensions:** Explore and learn about Kubernetes extensions, such as Traefik, CNI, and Istio.\\n   - **Kubernetes Extensions Cheat Sheet:** Create a cheat sheet to quickly recall key Kubernetes extensions.\\n\\n8. **Join Communities:**\\n   - **Kubernetes Slack:** Join the Kubernetes Slack community for support and collaboration.\\n   - **Kubernetes Discord:** Join the Kubernetes Discord for real-time support and community discussions.\\n\\n9. **Continuous Learning:**\\n   - **Kubernetes Blog:** Follow the official Kubernetes blog for the latest updates and best practices.\\n   - **Kubernetes News:** Stay updated with the latest news and releases from the Kubernetes community.\\n\\n10. **Practice and Experiment:**\\n    - **Kubernetes Practice Problems:** Practice with Kubernetes practice problems to apply your knowledge.\\n    - **Kubernetes Challenges:** Participate in Kubernetes challenges to test your skills and improve your understanding.\\n\\nBy following these steps, you should be able to learn Kubernetes effectively and become a proficient Kubernetes operator. Good luck!\",\n",
       "    'tool_calls': []},\n",
       "   'logprobs': None,\n",
       "   'finish_reason': 'stop',\n",
       "   'stop_reason': None}],\n",
       " 'usage': {'prompt_tokens': 25,\n",
       "  'total_tokens': 608,\n",
       "  'completion_tokens': 583,\n",
       "  'prompt_tokens_details': None},\n",
       " 'prompt_logprobs': None,\n",
       " 'kv_transfer_params': None}"
      ]
     },
     "execution_count": 7,
     "metadata": {},
     "output_type": "execute_result"
    }
   ],
   "source": [
    "response.json()"
   ]
  },
  {
   "cell_type": "code",
   "execution_count": 9,
   "metadata": {},
   "outputs": [
    {
     "name": "stdout",
     "output_type": "stream",
     "text": [
      "Sure, I'd be happy to help you learn Kubernetes. Kubernetes is a popular container orchestration platform that helps you manage and scale your applications. Here are some steps you can follow to get started:\n",
      "\n",
      "1. **Understand the Basics:**\n",
      "   - **Kubernetes Concepts:** Start by understanding the fundamental concepts of Kubernetes, such as namespaces, services, deployments, and pods.\n",
      "   - **Kubernetes API:** Familiarize yourself with the Kubernetes API and how to interact with it using tools like kubectl.\n",
      "\n",
      "2. **Learn the API:**\n",
      "   - **Kubernetes API Documentation:** Visit the official Kubernetes API documentation (https://kubernetes.io/docs/reference/generated/kubernetes-api/v1.20/) to learn about the various API endpoints and their functionalities.\n",
      "   - **Kubernetes API Reference:** Use the Kubernetes API reference to understand the structure and syntax of the API.\n",
      "\n",
      "3. **Install and Configure Kubernetes:**\n",
      "   - **Installation:** Follow the official installation guide for your operating system (e.g., Ubuntu, macOS, Windows).\n",
      "   - **Configuration:** Configure your Kubernetes cluster by setting up namespaces, services, and pods.\n",
      "\n",
      "4. **Learn Kubernetes Concepts:**\n",
      "   - **Kubernetes Concepts:** Study the concepts of containers, pods, services, and deployments.\n",
      "   - **Kubernetes Concepts Cheat Sheet:** Create a cheat sheet to quickly recall key Kubernetes concepts.\n",
      "\n",
      "5. **Practice with Examples:**\n",
      "   - **Kubernetes Examples:** Practice with Kubernetes examples and use cases to solidify your understanding.\n",
      "   - **Kubernetes Playground:** Use the Kubernetes Playground to run and test your Kubernetes applications.\n",
      "\n",
      "6. **Learn Kubernetes Tools:**\n",
      "   - **Kubernetes CLI:** Use the Kubernetes CLI to interact with your Kubernetes cluster.\n",
      "   - **Kubernetes Dashboard:** Use the Kubernetes Dashboard to manage your Kubernetes cluster.\n",
      "\n",
      "7. **Explore Kubernetes Extensions:**\n",
      "   - **Kubernetes Extensions:** Explore and learn about Kubernetes extensions, such as Traefik, CNI, and Istio.\n",
      "   - **Kubernetes Extensions Cheat Sheet:** Create a cheat sheet to quickly recall key Kubernetes extensions.\n",
      "\n",
      "8. **Join Communities:**\n",
      "   - **Kubernetes Slack:** Join the Kubernetes Slack community for support and collaboration.\n",
      "   - **Kubernetes Discord:** Join the Kubernetes Discord for real-time support and community discussions.\n",
      "\n",
      "9. **Continuous Learning:**\n",
      "   - **Kubernetes Blog:** Follow the official Kubernetes blog for the latest updates and best practices.\n",
      "   - **Kubernetes News:** Stay updated with the latest news and releases from the Kubernetes community.\n",
      "\n",
      "10. **Practice and Experiment:**\n",
      "    - **Kubernetes Practice Problems:** Practice with Kubernetes practice problems to apply your knowledge.\n",
      "    - **Kubernetes Challenges:** Participate in Kubernetes challenges to test your skills and improve your understanding.\n",
      "\n",
      "By following these steps, you should be able to learn Kubernetes effectively and become a proficient Kubernetes operator. Good luck!\n"
     ]
    }
   ],
   "source": [
    "res = response.json()\n",
    "print(res[\"choices\"][0][\"message\"][\"content\"])"
   ]
  }
 ],
 "metadata": {
  "kernelspec": {
   "display_name": "idm",
   "language": "python",
   "name": "python3"
  },
  "language_info": {
   "codemirror_mode": {
    "name": "ipython",
    "version": 3
   },
   "file_extension": ".py",
   "mimetype": "text/x-python",
   "name": "python",
   "nbconvert_exporter": "python",
   "pygments_lexer": "ipython3",
   "version": "3.10.13"
  }
 },
 "nbformat": 4,
 "nbformat_minor": 2
}
